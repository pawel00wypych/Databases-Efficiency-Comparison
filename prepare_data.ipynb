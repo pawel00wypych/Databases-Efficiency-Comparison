{
 "cells": [
  {
   "cell_type": "code",
   "id": "initial_id",
   "metadata": {
    "collapsed": true
   },
   "source": [
    "import pandas as pd\n",
    "from datetime import datetime\n",
    "\n",
    "\n",
    "#prepare data before importing to database\n",
    "chunksize = 100000\n",
    "chunks = pd.read_csv(\"data/Google-Playstore.csv\", chunksize=chunksize)\n",
    "\n",
    "def convert_size(value):\n",
    "    value = value.replace(\",\", \"\")\n",
    "\n",
    "    if \"G\" in value:\n",
    "        return float(value.replace(\"G\", \"\")) * 1_000_000_000\n",
    "    elif \"M\" in value:\n",
    "        return float(value.replace(\"M\", \"\")) * 1_000_000  # Convert M to numeric\n",
    "    elif \"k\" in value:\n",
    "        return float(value.replace(\"k\", \"\")) * 1_000  # Convert K to numeric\n",
    "    elif \"Varies with device\" in value:\n",
    "        return None  # Handle special case\n",
    "    else:\n",
    "        return float(value)  # Already numeric\n",
    "\n",
    "def convert_dates(date):\n",
    "    if date != \"nan\":\n",
    "        date_obj = datetime.strptime(date, \"%b %d, %Y\")\n",
    "        return date_obj.strftime(\"%d-%m-%Y\")\n",
    "    else:\n",
    "        return None\n",
    "\n",
    "\n",
    "df_list = []\n",
    "for chunk in chunks:\n",
    "    bool_columns = [\"Free\", \"Ad Supported\", \"In App Purchases\", \"Editors Choice\"]\n",
    "    chunk[bool_columns] = chunk[bool_columns].astype(bool).replace({True: 1, False: 0}).astype(str)\n",
    "    chunk[\"Installs\"] = chunk[\"Installs\"].astype(str).replace(r\"[+,]\", \"\", regex=True).astype(str)\n",
    "    chunk[\"Size\"] = chunk[\"Size\"].astype(str).apply(convert_size)\n",
    "    chunk[\"Minimum Android\"] = chunk[\"Minimum Android\"].astype(str).replace(r\"(W|and up)\\b\", \"\", regex=True).str.strip()\n",
    "    chunk[\"Released\"] = chunk[\"Released\"].astype(str).apply(convert_dates)\n",
    "    chunk[\"Last Updated\"] = chunk[\"Last Updated\"].astype(str).apply(convert_dates)\n",
    "    df_list.append(chunk)\n",
    "\n",
    "df = pd.concat(df_list, ignore_index=True)\n",
    "df.drop(\"Scraped Time\", axis=1, inplace=True)\n",
    "df.to_csv(\"data/Google-Playstore_cleaned.csv\", index=False)\n",
    "df.head(50)"
   ],
   "outputs": [],
   "execution_count": null
  }
 ],
 "metadata": {
  "kernelspec": {
   "display_name": "Python 3 (ipykernel)",
   "language": "python",
   "name": "python3"
  },
  "language_info": {
   "codemirror_mode": {
    "name": "ipython",
    "version": 2
   },
   "file_extension": ".py",
   "mimetype": "text/x-python",
   "name": "python",
   "nbconvert_exporter": "python",
   "pygments_lexer": "ipython2",
   "version": "2.7.6"
  }
 },
 "nbformat": 4,
 "nbformat_minor": 5
}
